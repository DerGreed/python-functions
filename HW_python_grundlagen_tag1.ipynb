{
  "cells": [
    {
      "cell_type": "markdown",
      "id": "02b9e1a1",
      "metadata": {
        "id": "02b9e1a1"
      },
      "source": [
        "# Hausaufgabe: Python Grundlagen - Tag 1\n",
        "Willkommen! Führe alle Codezellen der Reihe nach aus und bearbeite die Aufgaben.\n",
        "Schreibe eigene Lösungen in die vorgesehenen Zellen.\n"
      ]
    },
    {
      "cell_type": "markdown",
      "id": "871ffe65",
      "metadata": {
        "id": "871ffe65"
      },
      "source": [
        "## Aufgabe 1: Pythons interaktiven Modus\n",
        "📌 **Aufgabe:**  \n",
        "Führe die folgenden Befehle aus und erkläre jeweils, was passiert.\n",
        "\n",
        "✏️ **Beispiel:**  \n",
        "`print(\"Hallo\", \"Welt\")` → Gibt zwei Texte mit einem Leerzeichen dazwischen aus\n"
      ]
    },
    {
      "cell_type": "code",
      "execution_count": 1,
      "id": "9f28ef2e",
      "metadata": {
        "id": "9f28ef2e",
        "colab": {
          "base_uri": "https://localhost:8080/"
        },
        "outputId": "b1211bd5-f9da-428f-ca54-7ff41a2e7a86"
      },
      "outputs": [
        {
          "output_type": "stream",
          "name": "stdout",
          "text": [
            "Mein Name ist Python\n"
          ]
        }
      ],
      "source": [
        "print(\"Mein Name ist\", \"Python\")\n",
        "# Aufruf der print() Funktion. Diese nimmt beliebig viele Parameter an, welche\n",
        "# als Strings durch Trennzeichen aneinandergereiht, mit einem Endzeichen\n",
        "# beendet und dann als Text in der Ausgabe gedruckt werden. Standardwerte sind\n",
        "# Leerzeichen, neue Zeile und Standardausgabe."
      ]
    },
    {
      "cell_type": "code",
      "execution_count": 2,
      "id": "1acb307f",
      "metadata": {
        "id": "1acb307f",
        "colab": {
          "base_uri": "https://localhost:8080/"
        },
        "outputId": "a6194dcb-259e-4a7e-f43e-d6f0c21ff9d4"
      },
      "outputs": [
        {
          "output_type": "execute_result",
          "data": {
            "text/plain": [
              "42"
            ]
          },
          "metadata": {},
          "execution_count": 2
        }
      ],
      "source": [
        "7 * 6\n",
        "# Die beiden Zahlen werden multipliziert und das Ergebnis ausgegeben."
      ]
    },
    {
      "cell_type": "code",
      "execution_count": 3,
      "id": "3e920da0",
      "metadata": {
        "id": "3e920da0",
        "colab": {
          "base_uri": "https://localhost:8080/",
          "height": 35
        },
        "outputId": "d0e1bc10-4475-40ce-85db-ad0500968b08"
      },
      "outputs": [
        {
          "output_type": "execute_result",
          "data": {
            "text/plain": [
              "'PythonPythonPython'"
            ],
            "application/vnd.google.colaboratory.intrinsic+json": {
              "type": "string"
            }
          },
          "metadata": {},
          "execution_count": 3
        }
      ],
      "source": [
        "\"Python\" * 3\n",
        "# Der String wird so oft wiederholt, wie von der Zahl angegeben und\n",
        "# aneinandergereiht."
      ]
    },
    {
      "cell_type": "code",
      "execution_count": null,
      "id": "de3836c2",
      "metadata": {
        "id": "de3836c2"
      },
      "outputs": [],
      "source": [
        "5 / 2\n",
        "# Die Zahl hinter dem \"/\" teilt die andere. Bei nichtganzzahligen Ergebnissen\n",
        "# wird ein Float ausgegeben."
      ]
    },
    {
      "cell_type": "code",
      "execution_count": 6,
      "id": "20284afd",
      "metadata": {
        "id": "20284afd",
        "colab": {
          "base_uri": "https://localhost:8080/"
        },
        "outputId": "d5b14b34-cfa3-4033-f635-1548e4a58b50"
      },
      "outputs": [
        {
          "output_type": "execute_result",
          "data": {
            "text/plain": [
              "2"
            ]
          },
          "metadata": {},
          "execution_count": 6
        }
      ],
      "source": [
        "5 // 2\n",
        "# Division ohne Rest. Wie oben, aber der nichtganzzahlige Teil wird abgeschnitten (immer Abrunden)."
      ]
    },
    {
      "cell_type": "code",
      "execution_count": 7,
      "id": "cdbe0e95",
      "metadata": {
        "id": "cdbe0e95",
        "colab": {
          "base_uri": "https://localhost:8080/"
        },
        "outputId": "7d704169-8d84-4075-abb5-45c380bf23e1"
      },
      "outputs": [
        {
          "output_type": "execute_result",
          "data": {
            "text/plain": [
              "float"
            ]
          },
          "metadata": {},
          "execution_count": 7
        }
      ],
      "source": [
        "type(3.14)\n",
        "# Gibt den Typ einer Variable aus. In diesem Fall Float, also Kommazahl."
      ]
    },
    {
      "cell_type": "code",
      "execution_count": 8,
      "id": "23bdb492",
      "metadata": {
        "id": "23bdb492",
        "colab": {
          "base_uri": "https://localhost:8080/"
        },
        "outputId": "0a402515-1245-4ff0-a74a-ba05657d5172"
      },
      "outputs": [
        {
          "output_type": "execute_result",
          "data": {
            "text/plain": [
              "str"
            ]
          },
          "metadata": {},
          "execution_count": 8
        }
      ],
      "source": [
        "type(\"3.14\")\n",
        "# s.o., aber in diesem Fall ist es ein String. Die Zeichen werden als solche\n",
        "# einzeln aneinandergereiht gespeichert."
      ]
    },
    {
      "cell_type": "code",
      "execution_count": null,
      "id": "f6c969e3",
      "metadata": {
        "id": "f6c969e3"
      },
      "outputs": [],
      "source": [
        "len(\"PCEP-Prüfung\")\n",
        "# Gibt die Länge des Arguments aus, in dem Fall die Länge des Strings."
      ]
    },
    {
      "cell_type": "code",
      "execution_count": 9,
      "id": "d8fca083",
      "metadata": {
        "id": "d8fca083",
        "colab": {
          "base_uri": "https://localhost:8080/",
          "height": 35
        },
        "outputId": "571559e4-fd10-4d96-b779-ee5a27f2eedc"
      },
      "outputs": [
        {
          "output_type": "execute_result",
          "data": {
            "text/plain": [
              "'Pn'"
            ],
            "application/vnd.google.colaboratory.intrinsic+json": {
              "type": "string"
            }
          },
          "metadata": {},
          "execution_count": 9
        }
      ],
      "source": [
        "\"Python\"[0] + \"Python\"[-1]\n",
        "# String-Slicing und Konkatenierung. Das erste Zeichen [0] des ersten Strings\n",
        "# und das letzte Zeichen [-1] des zweiten Strings werden zusammengesetzt und\n",
        "# als String ausgegeben."
      ]
    },
    {
      "cell_type": "code",
      "execution_count": 10,
      "id": "78eef698",
      "metadata": {
        "id": "78eef698",
        "colab": {
          "base_uri": "https://localhost:8080/"
        },
        "outputId": "b675a63c-3067-4024-c2c9-d76b83d4a9f9"
      },
      "outputs": [
        {
          "output_type": "stream",
          "name": "stdout",
          "text": [
            "The Zen of Python, by Tim Peters\n",
            "\n",
            "Beautiful is better than ugly.\n",
            "Explicit is better than implicit.\n",
            "Simple is better than complex.\n",
            "Complex is better than complicated.\n",
            "Flat is better than nested.\n",
            "Sparse is better than dense.\n",
            "Readability counts.\n",
            "Special cases aren't special enough to break the rules.\n",
            "Although practicality beats purity.\n",
            "Errors should never pass silently.\n",
            "Unless explicitly silenced.\n",
            "In the face of ambiguity, refuse the temptation to guess.\n",
            "There should be one-- and preferably only one --obvious way to do it.\n",
            "Although that way may not be obvious at first unless you're Dutch.\n",
            "Now is better than never.\n",
            "Although never is often better than *right* now.\n",
            "If the implementation is hard to explain, it's a bad idea.\n",
            "If the implementation is easy to explain, it may be a good idea.\n",
            "Namespaces are one honking great idea -- let's do more of those!\n"
          ]
        }
      ],
      "source": [
        "import this\n",
        "# Beautiful is better than ugly:\n",
        "#   Code sollte schön sein. Code sollte gut lesbar sein. Wenn eine Stück Code\n",
        "#   nicht ohne Kommentare auch für Fremde verständlich ist, dann solltest du\n",
        "#   ihn vermutlich umschreiben.\n",
        "# Explicit is better than implicit:\n",
        "#   Es ist besser, keine impliziten Annahmen vorzunehmen, sondern z.B. Typen\n",
        "#   bereits im Code zu definieren.\n",
        "# Simple is better than complex:\n",
        "#   Genau wie in der Mathematik, sind die einfachsten und elegantesten Lösungen\n",
        "#   oft die besten. Dies geht mit der ersten Zeile einher."
      ]
    },
    {
      "cell_type": "markdown",
      "id": "139ae424",
      "metadata": {
        "id": "139ae424"
      },
      "source": [
        "💬 **Was bedeuten für dich die ersten drei Zeilen von `import this`?**  \n",
        "Schreibe deine Gedanken als Kommentar darunter.\n"
      ]
    },
    {
      "cell_type": "markdown",
      "id": "291170a7",
      "metadata": {
        "id": "291170a7"
      },
      "source": [
        "## Aufgabe 2: Persönlicher Steckbrief\n",
        "📌 **Ziel:** Schreibe ein kleines Programm, das dich befragt und einen Steckbrief anzeigt.\n",
        "\n",
        "💡 **Hinweise:**\n",
        "- Nutze `input()` um Daten abzufragen, `print()` um auszugeben.\n",
        "- Du brauchst mindestens 6 Abfragen: Name, Alter, Wohnort, Sprache, zwei Hobbys\n",
        "- Für die Altersauswertung brauchst du eine Bedingung: `if / elif / else`\n",
        "- Nutze `int()` um den eingegebenen Text (Alter) in eine Zahl zu verwandeln\n",
        "- Du kannst `if sprache.lower() == \"python\"` verwenden, um auf Groß-/Kleinschreibung zu achten\n"
      ]
    },
    {
      "cell_type": "code",
      "execution_count": 19,
      "id": "b2aff1e7",
      "metadata": {
        "id": "b2aff1e7",
        "colab": {
          "base_uri": "https://localhost:8080/"
        },
        "outputId": "c04db5b2-eee9-4b54-c13f-8242726c6ae6"
      },
      "outputs": [
        {
          "output_type": "stream",
          "name": "stdout",
          "text": [
            "Wie heißt du \n",
            "Die Antwort darf nicht leer sein!\n",
            "Wie heißt du Jollobollo\n",
            "Wie alt bist du? a\n",
            "Du musst eine Zahl eingeben!\n",
            "Wie alt bist du? -1\n",
            "Die Zahl muss positiv sein!\n",
            "Wie alt bist du? 99\n",
            "Wie wohnst du? Brrrlin\n",
            "Was ist deine Muttersprache? Python\n",
            "Was machst du gerne in deiner Freizeit? Coden\n",
            "Aber du hast doch sicher mehr als ein Hobby.\n",
            "Was machst du gerne in deiner Freizeit? Testen\n",
            "Gib gerne mehr Hobbys an. Leere Eingabe beendet.\n",
            "Was machst du gerne in deiner Freizeit? Deployen\n",
            "Was machst du gerne in deiner Freizeit? \n",
            "{'name': 'Jollobollo', 'age': 99, 'place': 'Brrrlin', 'language': 'Python', 'hobby': {'Testen', 'Deployen', 'Coden'}}\n"
          ]
        }
      ],
      "source": [
        "# ✍️ Dein Steckbrief-Programm\n",
        "# Schreibe deinen Code hier:\n",
        "def non_empty_input(question: str, require_type: str = \"\",\n",
        "                    require_pos: bool = False):\n",
        "  # erweitert die Input-Funktion um Optionen:\n",
        "  # require_type: \"int\", \"float\" oder leer\n",
        "  # require_pos: Zusammen mit obiger Option: Keine negativen Zahlen\n",
        "\n",
        "  while True: # wird wiederholt bis \"return output\" erreicht\n",
        "    output = input(question)\n",
        "    if output == \"\":\n",
        "      print(\"Die Antwort darf nicht leer sein!\")\n",
        "      continue # fängt die Schleife von vorne an\n",
        "    if require_type: # Für Zahlen (int, float)\n",
        "      try: # Versuche Typenkonvertierung\n",
        "        if require_type == \"int\":\n",
        "          output = int(output)\n",
        "        elif require_type == \"float\":\n",
        "          output = float(output)\n",
        "        else:\n",
        "          return output # int oder float nicht angegeben: Typ ignoriert\n",
        "        if not require_pos or output >= 0: # überprüft ob größer 0, wenn gefragt\n",
        "          return output\n",
        "        print(\"Die Zahl muss positiv sein!\")\n",
        "      except:\n",
        "        print(\"Du musst eine Zahl eingeben!\")\n",
        "      continue\n",
        "    return output\n",
        "\n",
        "person = {} # Leeres Dict\n",
        "questions = { # Dict mit Fragen und potentiellen Optionen für die Antwort\n",
        "    \"name\": [\"Wie heißt du \"],\n",
        "    \"age\": [\"Wie alt bist du? \", \"int\", True], # Hier wird eine Zahl erwartet\n",
        "    \"place\": [\"Wie wohnst du? \"],\n",
        "    \"language\": [\"Was ist deine Muttersprache? \"],\n",
        "    \"hobby\": [\"Was machst du gerne in deiner Freizeit? \"]\n",
        "}\n",
        "\n",
        "for key,value in questions.items():\n",
        "  person[key] = non_empty_input(*value) # Übergibt die Frage und Optionen\n",
        "    # an die oben definierte Funktion als Parameter\n",
        "person[\"hobby\"] = {person[\"hobby\"]} # Macht aus dem letzten Eintrag eine Liste\n",
        "print(\"Aber du hast doch sicher mehr als ein Hobby.\")\n",
        "person[\"hobby\"].add(non_empty_input(*questions[\"hobby\"])) # Wiederholt die\n",
        "  # letzte Frage\n",
        "print(\"Gib gerne mehr Hobbys an. Leere Eingabe beendet.\")\n",
        "while True:\n",
        "  hobby = input(questions[\"hobby\"][0]) # Wiederholt die letzte Frage\n",
        "  if hobby == \"\": # Beendet die Fragerunde durch leere Eingabe\n",
        "    break\n",
        "  person[\"hobby\"].add(hobby)\n",
        "print(person) # Zur Überprüfung (könnte schöner sein)"
      ]
    },
    {
      "cell_type": "markdown",
      "id": "8db00c2b",
      "metadata": {
        "id": "8db00c2b"
      },
      "source": [
        "## Aufgabe 3: Minirechner\n",
        "📌 **Ziel:** Erstelle einen Taschenrechner für zwei Zahlen\n",
        "\n",
        "🔢 **Operationen:** +, -, \\*, /, //, %, ** sowie Durchschnitt\n",
        "\n",
        "💡 **Hinweise:**\n",
        "- Nutze `float()` für Eingaben\n",
        "- Verwende `round(zahl, 2)` um auf 2 Nachkommastellen zu runden\n",
        "- Denke bei der Division an eine Überprüfung: Division durch 0 vermeiden (siehe Beispiel vom Unterricht heute morgen (Exception_Handling)\n",
        "\n",
        "🧪 **Beispiel für Ausgabeformat:**  \n",
        "`10.00 + 3.00 = 13.00`\n"
      ]
    },
    {
      "cell_type": "code",
      "execution_count": 30,
      "id": "ba84c9fc",
      "metadata": {
        "id": "ba84c9fc",
        "colab": {
          "base_uri": "https://localhost:8080/"
        },
        "outputId": "8bab11fb-7826-4109-f6cc-8ce047008c87"
      },
      "outputs": [
        {
          "output_type": "stream",
          "name": "stdout",
          "text": [
            "Erste Zahl: 10\n",
            "Zweite Zahl: 3\n",
            "10.00 +  3.00 =    13.00\n",
            "10.00 -  3.00 =     7.00\n",
            "10.00 *  3.00 =    30.00\n",
            "10.00 /  3.00 =     3.33\n",
            "10.00 // 3.00 =     3.00\n",
            "10.00 %  3.00 =     1.00\n",
            "10.00 ** 3.00 =  1000.00\n",
            "10.00 im Durchschnitt mit 3.00 =     6.50\n"
          ]
        }
      ],
      "source": [
        "# ✍️ Dein Minirechner-Programm\n",
        "# Schreibe deinen Code hier:\n",
        "\n",
        "from operator import *  # danke für den Tipp, Helen :D\n",
        "\n",
        "number_1 = non_empty_input(\"Erste Zahl: \", \"float\")  # Verwendet die Funktion\n",
        "number_2 = non_empty_input(\"Zweite Zahl: \", \"float\") # aus dem ersten Block\n",
        "\n",
        "for sign,function in [ # Liste mit Zeichen und deren Operatoren(funktionen)\n",
        "    [\"+\", add],\n",
        "    [\"-\", sub],\n",
        "    [\"*\", mul],\n",
        "    [\"/\", truediv],\n",
        "    [\"//\", floordiv],\n",
        "    [\"%\", mod],\n",
        "    [\"**\", pow],\n",
        "    [\"im Durchschnitt mit\", lambda x,y:(x+y)/2] # mir fällt gerade auf ich\n",
        "                                    # hätte überall lambda benutzen können.\n",
        "    ]:\n",
        "  try: # Ausgabe aller Operationen:\n",
        "    print(f\"{number_1:.2f} {sign:<2} {number_2:.2f} = {function(number_1, number_2):>8.2f}\")\n",
        "    # Format:\n",
        "    # a + b = add(a,b)\n",
        "  except ZeroDivisionError:\n",
        "    print(\"Division durch 0 ist nicht erlaubt!\")"
      ]
    },
    {
      "cell_type": "markdown",
      "id": "012ea8bb",
      "metadata": {
        "id": "012ea8bb"
      },
      "source": [
        "## Bonusaufgabe: Geometrierechner\n",
        "📌 **Ziel:** Nutzer kann zwischen Kreis, Rechteck oder Dreieck wählen und Fläche/Umfang berechnen\n",
        "\n",
        "💡 **Hinweise:**\n",
        "- Nutze `import math` für Kreisberechnung (`math.pi`)\n",
        "- Kreisfläche: `Fläche = pi * r ** 2`\n",
        "- Rechteck: `Umfang = 2 * (Länge + Breite)`, `Fläche = Länge * Breite`\n",
        "- Dreieck: `Fläche = 0.5 * Grundseite * Höhe`\n",
        "- Nutze `if`-Abfragen je nach Benutzerwahl\n",
        "\n",
        "📋 **Beispiel-Menü:**\n",
        "```\n",
        "1. Kreis\n",
        "2. Rechteck\n",
        "3. Dreieck\n",
        "```\n"
      ]
    },
    {
      "cell_type": "code",
      "execution_count": 50,
      "id": "4fd9fb55",
      "metadata": {
        "id": "4fd9fb55",
        "colab": {
          "base_uri": "https://localhost:8080/"
        },
        "outputId": "8f340448-1231-4eb0-ef82-782fd8603ece"
      },
      "outputs": [
        {
          "output_type": "stream",
          "name": "stdout",
          "text": [
            "Welche geometrische Form interessiert dich?\n",
            "1. Kreis\n",
            "2. Rechteck\n",
            "3. Dreieck (Seiten bekannt)\n",
            "4. Dreieck (Winkel bekannt)\n",
            "Bitte gib die Nummer des Menüeintrags an: 4\n",
            "Du hast Dreieck (Winkel bekannt) gewählt.\n",
            "Es werden folgende Maße benötigt:  Eine Seite, Eine weitere Seite, Der Winkel zwischen den beiden als Anteil eines Kreises\n",
            "Eine Seite: 3\n",
            "Eine weitere Seite: 4\n",
            "Der Winkel zwischen den beiden als Anteil eines Kreises: 1/4\n",
            "Du musst eine Zahl eingeben!\n",
            "Der Winkel zwischen den beiden als Anteil eines Kreises: 0.25\n",
            "Umfang = 12.0\n",
            "Fläche = 6.0\n"
          ]
        }
      ],
      "source": [
        "from os import sched_get_priority_max\n",
        "# ✍️ Dein Geometrierechner-Programm\n",
        "# Schreibe deinen Code hier:\n",
        "\n",
        "from math import *  # für tau, sinus und cosinus\n",
        "\n",
        "shapes = { # Nested Dict: Schlüssel sind Formen, Werte sind ihre Berechnung\n",
        "    \"Kreis\": { # Schlüssel sind immer Maße, Umfang, Fläche\n",
        "        \"Maße\": [\"Radius\"], # Maße sind Listen variabler Länge (1 - 3)\n",
        "                            # Umfang und Fläche sind jeweils Funktionen\n",
        "                            # Die Anzahl der Inputs entspricht den Maßen\n",
        "        \"Umfang\": lambda r: tau * r, # pi ist Häresie (https://www.tauday.com)\n",
        "        \"Fläche\": lambda r: 0.5 * tau * r **2\n",
        "    },\n",
        "    \"Rechteck\": {\n",
        "        \"Maße\": [\"Länge\", \"Breite\"],\n",
        "        \"Umfang\": lambda l,b: 2 * (l + b),\n",
        "        \"Fläche\": lambda l,b: l * b\n",
        "    },\n",
        "    \"Dreieck (Seiten bekannt)\": {\n",
        "        \"Maße\": [\"Erste Seite\", \"Zweite Seite\", \"Dritte Seite\"],\n",
        "        \"Umfang\": lambda a,b,c: a + b + c,\n",
        "        \"Fläche\": lambda a,b,c: (s := (a + b + c) / 2, # Assignment Expression\n",
        "                                (s * (s - a) * (s - b) * (s - c)) ** 0.5\n",
        "                  )[-1] # Satz des Heron (s = halber Umfang)\n",
        "#        \"Fläche\": lambda a,b,c: 0.25 * ((a + b + c) * (a + b - c)\n",
        "#                                      * (a + c - b) * (b + c - a)) ** 0.5\n",
        "    },\n",
        "    \"Dreieck (Winkel bekannt)\": {\n",
        "        \"Maße\": [\"Eine Seite\", \"Eine weitere Seite\",\n",
        "                 \"Der Winkel zwischen den beiden als Anteil eines Kreises\"],\n",
        "                # z.B. rechter Winkel = 1/4 Kreis\n",
        "        \"Umfang\": lambda a,b,w: a + b + (a ** 2 + b **2\n",
        "                                         - 2 * a * b * cos(w * tau)) ** 0.5,\n",
        "        \"Fläche\": lambda a,b,w: 0.5 * a * b * sin(w * tau)\n",
        "    }\n",
        "}\n",
        "\n",
        "print(\"Welche geometrische Form interessiert dich?\")\n",
        "i = 0\n",
        "shapelist = list(shapes.keys()) # Liste der Namen\n",
        "for shape in shapelist: # Auflisten der Formen (geht bestimmt sauberer)\n",
        "  i += 1\n",
        "  print(f\"{i}. {shape}\")\n",
        "chosen = non_empty_input(\"Bitte gib die Nummer des Menüeintrags an: \",\n",
        "                         \"int\", True) # Die altbekannte Funktion\n",
        "if chosen > len(shapes) or chosen == 0:\n",
        "  print(\"Kein passender Eintrag ausgewählt.\") # Beendet\n",
        "else:\n",
        "  name = shapelist[chosen - 1]\n",
        "  shape = shapes[name] # Bekommt das Dict der gewählten Form\n",
        "  print(f\"Du hast {name} gewählt.\")\n",
        "  sides = shape[\"Maße\"]\n",
        "  print(\"Es werden folgende Maße benötigt: \",\n",
        "        \", \".join(sides))\n",
        "  for i in range(len(sides)): # Fragt nacheinander die Maße ab.\n",
        "    sides[i] = non_empty_input(sides[i] + \": \", \"float\", True)\n",
        "  for v in [\"Umfang\", \"Fläche\"]:\n",
        "    shape[v] = shape[v](*sides) # Setzt die Maße in die Funktionen ein\n",
        "    print(v, \"=\", shape[v])"
      ]
    },
    {
      "cell_type": "markdown",
      "id": "529a758b",
      "metadata": {
        "id": "529a758b"
      },
      "source": [
        "## 📝 Hinweise zur Abgabe:\n",
        "- Kommentiere deinen Code (z. B. was eine Zeile macht)\n",
        "- Teste dein Programm mit verschiedenen Eingaben\n",
        "- Lade deine `.py`-Dateien oder dieses Colab-Notebook hoch (z. B. GitHub oder Google Drive)\n",
        "- Bereite dich darauf vor, deine Lösung im Kurs zu erklären. 🧠\n",
        "\n",
        "Viel Erfolg und Spaß beim Coden! 🚀\n"
      ]
    }
  ],
  "metadata": {
    "colab": {
      "provenance": []
    },
    "language_info": {
      "name": "python"
    },
    "kernelspec": {
      "name": "python3",
      "display_name": "Python 3"
    }
  },
  "nbformat": 4,
  "nbformat_minor": 5
}